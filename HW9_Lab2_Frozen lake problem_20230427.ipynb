{
 "cells": [
  {
   "cell_type": "markdown",
   "id": "f4980a10",
   "metadata": {},
   "source": [
    "## 冰湖遊戲 (Frozen lake) 策略評估計算 (參考 15-10 Policy_Evaluation)"
   ]
  },
  {
   "cell_type": "code",
   "execution_count": 142,
   "id": "4e23c8bd",
   "metadata": {},
   "outputs": [],
   "source": [
    "import gymnasium as gym\n",
    "import numpy as np"
   ]
  },
  {
   "cell_type": "code",
   "execution_count": 143,
   "id": "c977a17f",
   "metadata": {},
   "outputs": [],
   "source": [
    "# MAPS = {\n",
    "#     \"4x4\": [\"SFFF\", \"FHFH\", \"FFFH\", \"HFFG\"],\n",
    "# }"
   ]
  },
  {
   "cell_type": "code",
   "execution_count": 144,
   "id": "2a89ef7b",
   "metadata": {},
   "outputs": [],
   "source": [
    "# 創建FrozenLake環境\n",
    "env = gym.make(\"FrozenLake-v1\")\n",
    "# 獲取狀態和行動的維度 (現在 FrozenLake 不支援 nS, nA ,以及沒有 env.shape)\n",
    "n_states = env.observation_space.n\n",
    "n_actions = env.action_space.n\n",
    "state_shape = env.observation_space.n"
   ]
  },
  {
   "cell_type": "code",
   "execution_count": 145,
   "id": "e48e7858",
   "metadata": {},
   "outputs": [
    {
     "name": "stdout",
     "output_type": "stream",
     "text": [
      "{狀態: {行動: [ (轉移機率, 下一個狀態, 獎勵, 是否到達終點), (轉移機率, 下一個狀態, 獎勵, 是否到達終點)]}}\n"
     ]
    },
    {
     "data": {
      "text/plain": [
       "{0: {0: [(0.3333333333333333, 0, 0.0, False),\n",
       "   (0.3333333333333333, 0, 0.0, False),\n",
       "   (0.3333333333333333, 4, 0.0, False)],\n",
       "  1: [(0.3333333333333333, 0, 0.0, False),\n",
       "   (0.3333333333333333, 4, 0.0, False),\n",
       "   (0.3333333333333333, 1, 0.0, False)],\n",
       "  2: [(0.3333333333333333, 4, 0.0, False),\n",
       "   (0.3333333333333333, 1, 0.0, False),\n",
       "   (0.3333333333333333, 0, 0.0, False)],\n",
       "  3: [(0.3333333333333333, 1, 0.0, False),\n",
       "   (0.3333333333333333, 0, 0.0, False),\n",
       "   (0.3333333333333333, 0, 0.0, False)]},\n",
       " 1: {0: [(0.3333333333333333, 1, 0.0, False),\n",
       "   (0.3333333333333333, 0, 0.0, False),\n",
       "   (0.3333333333333333, 5, 0.0, True)],\n",
       "  1: [(0.3333333333333333, 0, 0.0, False),\n",
       "   (0.3333333333333333, 5, 0.0, True),\n",
       "   (0.3333333333333333, 2, 0.0, False)],\n",
       "  2: [(0.3333333333333333, 5, 0.0, True),\n",
       "   (0.3333333333333333, 2, 0.0, False),\n",
       "   (0.3333333333333333, 1, 0.0, False)],\n",
       "  3: [(0.3333333333333333, 2, 0.0, False),\n",
       "   (0.3333333333333333, 1, 0.0, False),\n",
       "   (0.3333333333333333, 0, 0.0, False)]},\n",
       " 2: {0: [(0.3333333333333333, 2, 0.0, False),\n",
       "   (0.3333333333333333, 1, 0.0, False),\n",
       "   (0.3333333333333333, 6, 0.0, False)],\n",
       "  1: [(0.3333333333333333, 1, 0.0, False),\n",
       "   (0.3333333333333333, 6, 0.0, False),\n",
       "   (0.3333333333333333, 3, 0.0, False)],\n",
       "  2: [(0.3333333333333333, 6, 0.0, False),\n",
       "   (0.3333333333333333, 3, 0.0, False),\n",
       "   (0.3333333333333333, 2, 0.0, False)],\n",
       "  3: [(0.3333333333333333, 3, 0.0, False),\n",
       "   (0.3333333333333333, 2, 0.0, False),\n",
       "   (0.3333333333333333, 1, 0.0, False)]},\n",
       " 3: {0: [(0.3333333333333333, 3, 0.0, False),\n",
       "   (0.3333333333333333, 2, 0.0, False),\n",
       "   (0.3333333333333333, 7, 0.0, True)],\n",
       "  1: [(0.3333333333333333, 2, 0.0, False),\n",
       "   (0.3333333333333333, 7, 0.0, True),\n",
       "   (0.3333333333333333, 3, 0.0, False)],\n",
       "  2: [(0.3333333333333333, 7, 0.0, True),\n",
       "   (0.3333333333333333, 3, 0.0, False),\n",
       "   (0.3333333333333333, 3, 0.0, False)],\n",
       "  3: [(0.3333333333333333, 3, 0.0, False),\n",
       "   (0.3333333333333333, 3, 0.0, False),\n",
       "   (0.3333333333333333, 2, 0.0, False)]},\n",
       " 4: {0: [(0.3333333333333333, 0, 0.0, False),\n",
       "   (0.3333333333333333, 4, 0.0, False),\n",
       "   (0.3333333333333333, 8, 0.0, False)],\n",
       "  1: [(0.3333333333333333, 4, 0.0, False),\n",
       "   (0.3333333333333333, 8, 0.0, False),\n",
       "   (0.3333333333333333, 5, 0.0, True)],\n",
       "  2: [(0.3333333333333333, 8, 0.0, False),\n",
       "   (0.3333333333333333, 5, 0.0, True),\n",
       "   (0.3333333333333333, 0, 0.0, False)],\n",
       "  3: [(0.3333333333333333, 5, 0.0, True),\n",
       "   (0.3333333333333333, 0, 0.0, False),\n",
       "   (0.3333333333333333, 4, 0.0, False)]},\n",
       " 5: {0: [(1.0, 5, 0, True)],\n",
       "  1: [(1.0, 5, 0, True)],\n",
       "  2: [(1.0, 5, 0, True)],\n",
       "  3: [(1.0, 5, 0, True)]},\n",
       " 6: {0: [(0.3333333333333333, 2, 0.0, False),\n",
       "   (0.3333333333333333, 5, 0.0, True),\n",
       "   (0.3333333333333333, 10, 0.0, False)],\n",
       "  1: [(0.3333333333333333, 5, 0.0, True),\n",
       "   (0.3333333333333333, 10, 0.0, False),\n",
       "   (0.3333333333333333, 7, 0.0, True)],\n",
       "  2: [(0.3333333333333333, 10, 0.0, False),\n",
       "   (0.3333333333333333, 7, 0.0, True),\n",
       "   (0.3333333333333333, 2, 0.0, False)],\n",
       "  3: [(0.3333333333333333, 7, 0.0, True),\n",
       "   (0.3333333333333333, 2, 0.0, False),\n",
       "   (0.3333333333333333, 5, 0.0, True)]},\n",
       " 7: {0: [(1.0, 7, 0, True)],\n",
       "  1: [(1.0, 7, 0, True)],\n",
       "  2: [(1.0, 7, 0, True)],\n",
       "  3: [(1.0, 7, 0, True)]},\n",
       " 8: {0: [(0.3333333333333333, 4, 0.0, False),\n",
       "   (0.3333333333333333, 8, 0.0, False),\n",
       "   (0.3333333333333333, 12, 0.0, True)],\n",
       "  1: [(0.3333333333333333, 8, 0.0, False),\n",
       "   (0.3333333333333333, 12, 0.0, True),\n",
       "   (0.3333333333333333, 9, 0.0, False)],\n",
       "  2: [(0.3333333333333333, 12, 0.0, True),\n",
       "   (0.3333333333333333, 9, 0.0, False),\n",
       "   (0.3333333333333333, 4, 0.0, False)],\n",
       "  3: [(0.3333333333333333, 9, 0.0, False),\n",
       "   (0.3333333333333333, 4, 0.0, False),\n",
       "   (0.3333333333333333, 8, 0.0, False)]},\n",
       " 9: {0: [(0.3333333333333333, 5, 0.0, True),\n",
       "   (0.3333333333333333, 8, 0.0, False),\n",
       "   (0.3333333333333333, 13, 0.0, False)],\n",
       "  1: [(0.3333333333333333, 8, 0.0, False),\n",
       "   (0.3333333333333333, 13, 0.0, False),\n",
       "   (0.3333333333333333, 10, 0.0, False)],\n",
       "  2: [(0.3333333333333333, 13, 0.0, False),\n",
       "   (0.3333333333333333, 10, 0.0, False),\n",
       "   (0.3333333333333333, 5, 0.0, True)],\n",
       "  3: [(0.3333333333333333, 10, 0.0, False),\n",
       "   (0.3333333333333333, 5, 0.0, True),\n",
       "   (0.3333333333333333, 8, 0.0, False)]},\n",
       " 10: {0: [(0.3333333333333333, 6, 0.0, False),\n",
       "   (0.3333333333333333, 9, 0.0, False),\n",
       "   (0.3333333333333333, 14, 0.0, False)],\n",
       "  1: [(0.3333333333333333, 9, 0.0, False),\n",
       "   (0.3333333333333333, 14, 0.0, False),\n",
       "   (0.3333333333333333, 11, 0.0, True)],\n",
       "  2: [(0.3333333333333333, 14, 0.0, False),\n",
       "   (0.3333333333333333, 11, 0.0, True),\n",
       "   (0.3333333333333333, 6, 0.0, False)],\n",
       "  3: [(0.3333333333333333, 11, 0.0, True),\n",
       "   (0.3333333333333333, 6, 0.0, False),\n",
       "   (0.3333333333333333, 9, 0.0, False)]},\n",
       " 11: {0: [(1.0, 11, 0, True)],\n",
       "  1: [(1.0, 11, 0, True)],\n",
       "  2: [(1.0, 11, 0, True)],\n",
       "  3: [(1.0, 11, 0, True)]},\n",
       " 12: {0: [(1.0, 12, 0, True)],\n",
       "  1: [(1.0, 12, 0, True)],\n",
       "  2: [(1.0, 12, 0, True)],\n",
       "  3: [(1.0, 12, 0, True)]},\n",
       " 13: {0: [(0.3333333333333333, 9, 0.0, False),\n",
       "   (0.3333333333333333, 12, 0.0, True),\n",
       "   (0.3333333333333333, 13, 0.0, False)],\n",
       "  1: [(0.3333333333333333, 12, 0.0, True),\n",
       "   (0.3333333333333333, 13, 0.0, False),\n",
       "   (0.3333333333333333, 14, 0.0, False)],\n",
       "  2: [(0.3333333333333333, 13, 0.0, False),\n",
       "   (0.3333333333333333, 14, 0.0, False),\n",
       "   (0.3333333333333333, 9, 0.0, False)],\n",
       "  3: [(0.3333333333333333, 14, 0.0, False),\n",
       "   (0.3333333333333333, 9, 0.0, False),\n",
       "   (0.3333333333333333, 12, 0.0, True)]},\n",
       " 14: {0: [(0.3333333333333333, 10, 0.0, False),\n",
       "   (0.3333333333333333, 13, 0.0, False),\n",
       "   (0.3333333333333333, 14, 0.0, False)],\n",
       "  1: [(0.3333333333333333, 13, 0.0, False),\n",
       "   (0.3333333333333333, 14, 0.0, False),\n",
       "   (0.3333333333333333, 15, 1.0, True)],\n",
       "  2: [(0.3333333333333333, 14, 0.0, False),\n",
       "   (0.3333333333333333, 15, 1.0, True),\n",
       "   (0.3333333333333333, 10, 0.0, False)],\n",
       "  3: [(0.3333333333333333, 15, 1.0, True),\n",
       "   (0.3333333333333333, 10, 0.0, False),\n",
       "   (0.3333333333333333, 13, 0.0, False)]},\n",
       " 15: {0: [(1.0, 15, 0, True)],\n",
       "  1: [(1.0, 15, 0, True)],\n",
       "  2: [(1.0, 15, 0, True)],\n",
       "  3: [(1.0, 15, 0, True)]}}"
      ]
     },
     "execution_count": 145,
     "metadata": {},
     "output_type": "execute_result"
    }
   ],
   "source": [
    "print('{狀態: {行動: [ (轉移機率, 下一個狀態, 獎勵, 是否到達終點), (轉移機率, 下一個狀態, 獎勵, 是否到達終點)]}}') #字典裡面包字典,又包 list\n",
    "env.P  #Bellman 公式,對照 P 的部分 (講義 p.91 : file:///D:/Python/Python3/Class%2017/0_RL/RL_Introduction.pdf)\n",
    "# 行動: 0: Move left, 1: Move down, 2: Move right, 3: Move up\n",
    "# 由於一開始沒有定義 slipper 等條件, 所以會滑行 (slipper 預設為 true),因此,測試結果才會有兩次 0,然後跑到 4 (或許是滑行)"
   ]
  },
  {
   "cell_type": "markdown",
   "id": "cb2b47af",
   "metadata": {},
   "source": [
    "## 策略評估函數"
   ]
  },
  {
   "cell_type": "code",
   "execution_count": 146,
   "id": "22a091d2",
   "metadata": {},
   "outputs": [],
   "source": [
    "def policy_eval(policy, env, epoch=1, discount_factor=1.0):\n",
    "    # 狀態值函數初始化\n",
    "    V = np.zeros(n_states)\n",
    "    V1 = np.copy(V)\n",
    "    no = 0\n",
    "    while no < epoch:\n",
    "        # 更新每個狀態值的函數\n",
    "        for s in range(n_states):\n",
    "            v = 0\n",
    "            # 計算每個行動後的狀態值函數\n",
    "            for a, action_prob in enumerate(policy[s]):\n",
    "                # 取得所有可能的下一狀態值\n",
    "                for  prob, next_state, reward, done in env.P[s][a]:\n",
    "                    # 狀態值函數公式，依照所有可能的下一狀態值函數加總 \n",
    "                    v += action_prob * prob * (reward + \n",
    "                                   discount_factor * V[next_state])\n",
    "            V1[s] = v\n",
    "        V = np.copy(V1)\n",
    "        no+=1\n",
    "    return np.array(V)"
   ]
  },
  {
   "cell_type": "markdown",
   "id": "59decc46",
   "metadata": {},
   "source": [
    "## 訓練 1 週期"
   ]
  },
  {
   "cell_type": "code",
   "execution_count": 150,
   "id": "137df003",
   "metadata": {},
   "outputs": [
    {
     "name": "stdout",
     "output_type": "stream",
     "text": [
      "4x4 狀態值函數:\n",
      "[0.   0.   0.   0.   0.   0.   0.   0.   0.   0.   0.   0.   0.   0.\n",
      " 0.25 0.  ]\n"
     ]
    }
   ],
   "source": [
    "# 隨機策略，機率均等\n",
    "random_policy = np.ones([n_states, n_actions]) / n_actions\n",
    "# 評估\n",
    "v = policy_eval(random_policy, env, 1)\n",
    "print(\"4x4 狀態值函數:\")\n",
    "print(v.reshape(state_shape))"
   ]
  },
  {
   "cell_type": "markdown",
   "id": "00086f2c",
   "metadata": {},
   "source": [
    "## 訓練 2 週期"
   ]
  },
  {
   "cell_type": "code",
   "execution_count": 151,
   "id": "27c7b388",
   "metadata": {},
   "outputs": [
    {
     "name": "stdout",
     "output_type": "stream",
     "text": [
      "4x4 狀態值函數:\n",
      "[0.     0.     0.     0.     0.     0.     0.     0.     0.     0.\n",
      " 0.0625 0.     0.     0.0625 0.3125 0.    ]\n"
     ]
    }
   ],
   "source": [
    "v = policy_eval(random_policy, env, 2)\n",
    "print(\"4x4 狀態值函數:\")\n",
    "print(v.reshape(state_shape))"
   ]
  },
  {
   "cell_type": "markdown",
   "id": "1331202a",
   "metadata": {},
   "source": [
    "## 訓練 3 週期"
   ]
  },
  {
   "cell_type": "code",
   "execution_count": 152,
   "id": "02b5cf26",
   "metadata": {},
   "outputs": [
    {
     "name": "stdout",
     "output_type": "stream",
     "text": [
      "4x4 狀態值函數:\n",
      "[0.       0.       0.       0.       0.       0.       0.015625 0.\n",
      " 0.       0.03125  0.078125 0.       0.       0.09375  0.359375 0.      ]\n"
     ]
    }
   ],
   "source": [
    "v = policy_eval(random_policy, env, 3)\n",
    "print(\"4x4 狀態值函數:\")\n",
    "print(v.reshape(state_shape))"
   ]
  },
  {
   "cell_type": "markdown",
   "id": "fb8d2b52",
   "metadata": {},
   "source": [
    "## 完整的策略評估函數"
   ]
  },
  {
   "cell_type": "code",
   "execution_count": 153,
   "id": "2ae98618",
   "metadata": {},
   "outputs": [],
   "source": [
    "# 策略評估函數\n",
    "def policy_eval(policy, env, discount_factor=1.0, theta=0.00001):\n",
    "    # 狀態值函數初始化\n",
    "    V = np.zeros(n_states)\n",
    "    V1 = np.copy(V)\n",
    "    while True:\n",
    "        delta = 0\n",
    "        # 更新每個狀態值的函數\n",
    "        for s in range(n_states):\n",
    "            v = 0\n",
    "            # 計算每個行動後的狀態值函數\n",
    "            for a, action_prob in enumerate(policy[s]):\n",
    "                # 取得所有可能的下一狀態值\n",
    "                for  prob, next_state, reward, done in env.P[s][a]:\n",
    "                    # 狀態值函數公式，依照所有可能的下一狀態值函數加總 \n",
    "                    v += action_prob * prob * (reward + \n",
    "                                   discount_factor * V[next_state])\n",
    "            # 比較更新前後的差值，取最大值\n",
    "            delta = max(delta, np.abs(v - V[s]))\n",
    "            V1[s] = v\n",
    "        V = np.copy(V1)\n",
    "        # 若最大差值 < 門檻值，則停止評估\n",
    "        if delta < theta:\n",
    "            break\n",
    "    return np.array(V)"
   ]
  },
  {
   "cell_type": "code",
   "execution_count": 154,
   "id": "86a9fd46",
   "metadata": {},
   "outputs": [
    {
     "name": "stdout",
     "output_type": "stream",
     "text": [
      "4x4 狀態值函數:\n",
      "[0.01390102 0.01160346 0.02092871 0.01045776 0.0162259  0.\n",
      " 0.04074201 0.         0.03479274 0.08816183 0.14204605 0.\n",
      " 0.         0.1758143  0.43928541 0.        ]\n"
     ]
    }
   ],
   "source": [
    "# 隨機策略，機率均等\n",
    "random_policy = np.ones([n_states, n_actions]) / n_actions\n",
    "# 評估\n",
    "v = policy_eval(random_policy, env)\n",
    "\n",
    "print(\"4x4 狀態值函數:\")\n",
    "print(v.reshape(state_shape))"
   ]
  },
  {
   "cell_type": "markdown",
   "id": "ca4106ad",
   "metadata": {},
   "source": [
    "## 策略改善函數 (參考 15-11 Policy_Iteration_FrozenLake)"
   ]
  },
  {
   "cell_type": "code",
   "execution_count": 155,
   "id": "7610626d",
   "metadata": {},
   "outputs": [],
   "source": [
    "def policy_improvement(env, policy_eval_fn=policy_eval, discount_factor=1.0):\n",
    "    # 計算行動值函數\n",
    "    def one_step_lookahead(state, V):\n",
    "        A = np.zeros(n_actions)\n",
    "        for a in range(n_actions):\n",
    "            for prob, next_state, reward, done in env.P[state][a]:\n",
    "                A[a] += prob * (reward + discount_factor * V[next_state])\n",
    "        return A\n",
    "    \n",
    "    # 一開始採隨機策略，往上/下/左/右走的機率(π)均等\n",
    "    policy = np.ones([n_states, n_actions]) / n_actions\n",
    "    \n",
    "    while True:\n",
    "        # 策略評估\n",
    "        V = policy_eval_fn(policy, env, discount_factor)\n",
    "        \n",
    "        # 若要改變策略，會設定 policy_stable = False\n",
    "        policy_stable = True\n",
    "        \n",
    "        for s in range(n_states):\n",
    "            # 依 P 選擇最佳行動\n",
    "            chosen_a = np.argmax(policy[s])\n",
    "            \n",
    "            # 計算下一步的行動值函數\n",
    "            action_values = one_step_lookahead(s, V)\n",
    "            # 選擇最佳行動\n",
    "            best_a = np.argmax(action_values)\n",
    "            \n",
    "            # 貪婪策略：若有新的最佳行動，修改行動策略\n",
    "            if chosen_a != best_a:\n",
    "                policy_stable = False\n",
    "            policy[s] = np.eye(n_actions)[best_a]\n",
    "        \n",
    "        # 如果已無較佳行動策略，則回傳策略及狀態值函數\n",
    "        if policy_stable:\n",
    "            return policy, V"
   ]
  },
  {
   "cell_type": "code",
   "execution_count": 156,
   "id": "475c73fd",
   "metadata": {},
   "outputs": [],
   "source": [
    "# 執行策略循環\n",
    "policy, v = policy_improvement(env)"
   ]
  },
  {
   "cell_type": "code",
   "execution_count": 157,
   "id": "4c82e9cb",
   "metadata": {},
   "outputs": [
    {
     "name": "stdout",
     "output_type": "stream",
     "text": [
      "策略機率分配:\n",
      "[[1. 0. 0. 0.]\n",
      " [0. 0. 0. 1.]\n",
      " [0. 0. 0. 1.]\n",
      " [0. 0. 0. 1.]\n",
      " [1. 0. 0. 0.]\n",
      " [1. 0. 0. 0.]\n",
      " [1. 0. 0. 0.]\n",
      " [1. 0. 0. 0.]\n",
      " [0. 0. 0. 1.]\n",
      " [0. 1. 0. 0.]\n",
      " [1. 0. 0. 0.]\n",
      " [1. 0. 0. 0.]\n",
      " [1. 0. 0. 0.]\n",
      " [0. 0. 1. 0.]\n",
      " [0. 1. 0. 0.]\n",
      " [1. 0. 0. 0.]]\n",
      "\n",
      "4x4 策略機率分配 (0=up, 1=right, 2=down, 3=left):\n",
      "[[0 3 3 3]\n",
      " [0 0 0 0]\n",
      " [3 1 0 0]\n",
      " [0 2 1 0]]\n",
      "\n",
      "4x4 狀態值函數:\n",
      "[[0.8232943  0.82321549 0.82315953 0.8231305 ]\n",
      " [0.82331142 0.         0.52924366 0.        ]\n",
      " [0.8233444  0.82339085 0.76458368 0.        ]\n",
      " [0.         0.88225455 0.94112542 0.        ]]\n"
     ]
    }
   ],
   "source": [
    "# 顯示結果\n",
    "print(\"策略機率分配:\")\n",
    "print(policy)\n",
    "print(\"\")\n",
    "\n",
    "print(\"4x4 策略機率分配 (0=up, 1=right, 2=down, 3=left):\")\n",
    "print(np.reshape(np.argmax(policy, axis=1), (int(n_states ** 0.5), int(n_states ** 0.5))))\n",
    "print(\"\")\n",
    "\n",
    "print(\"4x4 狀態值函數:\")\n",
    "print(v.reshape((int(n_states ** 0.5), int(n_states ** 0.5))))"
   ]
  },
  {
   "cell_type": "code",
   "execution_count": null,
   "id": "2cd42102",
   "metadata": {},
   "outputs": [],
   "source": []
  }
 ],
 "metadata": {
  "kernelspec": {
   "display_name": "Python 3 (ipykernel)",
   "language": "python",
   "name": "python3"
  },
  "language_info": {
   "codemirror_mode": {
    "name": "ipython",
    "version": 3
   },
   "file_extension": ".py",
   "mimetype": "text/x-python",
   "name": "python",
   "nbconvert_exporter": "python",
   "pygments_lexer": "ipython3",
   "version": "3.9.12"
  }
 },
 "nbformat": 4,
 "nbformat_minor": 5
}
