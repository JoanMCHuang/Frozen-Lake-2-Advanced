{
 "cells": [
  {
   "cell_type": "markdown",
   "id": "9b175ef6",
   "metadata": {},
   "source": [
    "## 方法一"
   ]
  },
  {
   "cell_type": "code",
   "execution_count": 35,
   "id": "ad401663",
   "metadata": {},
   "outputs": [],
   "source": [
    "import numpy as np"
   ]
  },
  {
   "cell_type": "code",
   "execution_count": 36,
   "id": "e7744f4c",
   "metadata": {},
   "outputs": [],
   "source": [
    "#Ignore warning\n",
    "import warnings\n",
    "warnings.filterwarnings('ignore')"
   ]
  },
  {
   "cell_type": "code",
   "execution_count": 37,
   "id": "abda3863",
   "metadata": {},
   "outputs": [],
   "source": [
    "import gymnasium as gym"
   ]
  },
  {
   "cell_type": "code",
   "execution_count": 45,
   "id": "ae40363c",
   "metadata": {},
   "outputs": [
    {
     "name": "stdout",
     "output_type": "stream",
     "text": [
      "[[nan nan nan nan]\n",
      " [nan nan nan nan]\n",
      " [nan nan nan nan]\n",
      " [nan nan nan nan]]\n"
     ]
    }
   ],
   "source": [
    "import numpy as np\n",
    "\n",
    "# 定義冰湖遊戲的狀態空間和行動空間\n",
    "n_states = 16\n",
    "n_actions = 4\n",
    "# S: start, F: frozen surface, H: hole, G: goal\n",
    "desc = [\n",
    "    'SFFF',\n",
    "    'FHFH',\n",
    "    'FFFH',\n",
    "    'HFFG'\n",
    "]\n",
    "\n",
    "# 定義回報函數\n",
    "def reward(state):\n",
    "    if state == n_states - 1:\n",
    "        return 1\n",
    "    else:\n",
    "        return 0\n",
    "\n",
    "# 初始化狀態值函數\n",
    "V = np.zeros(n_states)\n",
    "\n",
    "# 定義轉移概率矩陣\n",
    "P = np.zeros((n_states, n_actions, n_states))\n",
    "for i in range(n_states):\n",
    "    row, col = i // 4, i % 4\n",
    "    for j in range(n_actions):\n",
    "        if desc[row][col] == 'H':\n",
    "            P[i, j, i] = 1\n",
    "        else:\n",
    "            if j == 0: # up\n",
    "                if row == 0:\n",
    "                    next_state = i\n",
    "                else:\n",
    "                    next_state = (row-1)*4 + col\n",
    "            elif j == 1: # down\n",
    "                if row == 3:\n",
    "                    next_state = i\n",
    "                else:\n",
    "                    next_state = (row+1)*4 + col\n",
    "            elif j == 2: # left\n",
    "                if col == 0:\n",
    "                    next_state = i\n",
    "                else:\n",
    "                    next_state = row*4 + col-1\n",
    "            elif j == 3: # right\n",
    "                if col == 3:\n",
    "                    next_state = i\n",
    "                else:\n",
    "                    next_state = row*4 + col+1\n",
    "            P[i, j, next_state] = 1\n",
    "\n",
    "# 定義折扣因子\n",
    "gamma = 0.9\n",
    "\n",
    "# 迭代更新狀態值函數\n",
    "for _ in range(1000):\n",
    "    V_new = np.zeros(n_states)\n",
    "    for s in range(n_states):\n",
    "        for a in range(n_actions):\n",
    "            V_new[s] += P[s, a, :] @ (reward(s) + gamma * V)\n",
    "    if np.max(np.abs(V_new - V)) < 1e-6:\n",
    "        break\n",
    "    V = V_new\n",
    "\n",
    "# 輸出狀態值函數\n",
    "print(V.reshape((4, 4)))\n"
   ]
  },
  {
   "cell_type": "markdown",
   "id": "ab8149a4",
   "metadata": {},
   "source": [
    "## 方法二"
   ]
  },
  {
   "cell_type": "code",
   "execution_count": 39,
   "id": "d7472f9d",
   "metadata": {},
   "outputs": [
    {
     "name": "stdout",
     "output_type": "stream",
     "text": [
      "Final State-Value Function:\n",
      "[[inf inf inf inf]\n",
      " [inf  0. inf  0.]\n",
      " [inf inf inf  0.]\n",
      " [ 0. inf inf  0.]]\n"
     ]
    }
   ],
   "source": [
    "import gymnasium as gym\n",
    "import numpy as np\n",
    "\n",
    "# 設置遊戲環境\n",
    "env = gym.make('FrozenLake-v1')\n",
    "env = env.unwrapped\n",
    "\n",
    "# 將 env.P[s] 轉換為列表\n",
    "# for s in range(env.observation_space.n):\n",
    "#     env.P[s] = {a: [p] for a, p in env.P[s].items()}\n",
    "\n",
    "for s in range(env.observation_space.n):\n",
    "    env.P[s] = [env.P[s][a] for a in range(env.action_space.n)]\n",
    "    \n",
    "# 狀態值函數初始化為0\n",
    "V = np.zeros(env.observation_space.n)\n",
    "\n",
    "# 狀態值函數更新函數\n",
    "def update_V(env, V, s, gamma=1.0):\n",
    "    v = 0\n",
    "    # 計算從狀態s開始的所有可能的下一個狀態的期望值\n",
    "    for a, p in enumerate(env.P[s]):\n",
    "        for prob, next_state, reward, done in p:\n",
    "            v += prob * (reward + gamma * V[next_state])\n",
    "    return v\n",
    "\n",
    "# 迭代更新狀態值函數\n",
    "for i in range(1000):\n",
    "    delta = 0\n",
    "    for s in range(env.observation_space.n):\n",
    "        v = V[s]\n",
    "        # 更新狀態值函數\n",
    "        V[s] = update_V(env, V, s)\n",
    "        delta = max(delta, abs(v - V[s]))\n",
    "    # 如果狀態值函數收斂，則停止更新\n",
    "    if delta < 1e-8:\n",
    "        break\n",
    "\n",
    "# 打印最終的狀態值函數\n",
    "print(\"Final State-Value Function:\")\n",
    "print(V.reshape((4, 4)))\n"
   ]
  },
  {
   "cell_type": "markdown",
   "id": "e2979964",
   "metadata": {},
   "source": [
    "## 方法三 (改自方法一)"
   ]
  },
  {
   "cell_type": "code",
   "execution_count": 46,
   "id": "38d1993f",
   "metadata": {},
   "outputs": [
    {
     "name": "stdout",
     "output_type": "stream",
     "text": [
      "[[inf inf inf inf]\n",
      " [inf  0. inf  0.]\n",
      " [inf inf inf  0.]\n",
      " [ 0. inf inf  0.]]\n"
     ]
    }
   ],
   "source": [
    "env = gym.make('FrozenLake-v1')\n",
    "\n",
    "n_states = env.observation_space.n\n",
    "n_actions = env.action_space.n\n",
    "\n",
    "# 初始化狀態值函數，初始值都設為 0.0\n",
    "V = np.zeros(n_states) + 0.0\n",
    "\n",
    "# 迭代更新狀態值函數\n",
    "for i in range(1000):\n",
    "    # 計算新的狀態值函數\n",
    "    new_V = np.zeros(n_states) + 0.0\n",
    "    for s in range(n_states):\n",
    "        for a in range(n_actions):\n",
    "            transitions = env.P[s][a]\n",
    "            for p, s_next, r, done in transitions:\n",
    "                new_V[s] += p * (r + 0.99 * V[s_next])\n",
    "    # 檢查狀態值函數是否收斂\n",
    "    if np.max(np.abs(V - new_V)) < 1e-6:\n",
    "        break\n",
    "    # 更新狀態值函數\n",
    "    V = new_V\n",
    "\n",
    "# 輸出狀態值函數\n",
    "print(V.reshape(4, 4))\n"
   ]
  },
  {
   "cell_type": "code",
   "execution_count": null,
   "id": "7c414782",
   "metadata": {},
   "outputs": [],
   "source": []
  }
 ],
 "metadata": {
  "kernelspec": {
   "display_name": "Python 3 (ipykernel)",
   "language": "python",
   "name": "python3"
  },
  "language_info": {
   "codemirror_mode": {
    "name": "ipython",
    "version": 3
   },
   "file_extension": ".py",
   "mimetype": "text/x-python",
   "name": "python",
   "nbconvert_exporter": "python",
   "pygments_lexer": "ipython3",
   "version": "3.9.12"
  }
 },
 "nbformat": 4,
 "nbformat_minor": 5
}
